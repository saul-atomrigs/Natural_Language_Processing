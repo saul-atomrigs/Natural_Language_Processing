{
 "cells": [
  {
   "cell_type": "code",
   "execution_count": 1,
   "metadata": {
    "colab": {
     "base_uri": "https://localhost:8080/"
    },
    "executionInfo": {
     "elapsed": 377,
     "status": "ok",
     "timestamp": 1626509109728,
     "user": {
      "displayName": "조성현",
      "photoUrl": "",
      "userId": "00956016439237072792"
     },
     "user_tz": -540
    },
    "id": "UjlkNclBpLCY",
    "outputId": "971d4048-c31f-49fc-8e6d-91b05abbce03"
   },
   "outputs": [],
   "source": [
    "# Skipgram-2 : Skipgram with subsampling.\n",
    "#\n",
    "# Skipgram으로 한글 코퍼스를 학습하고,\n",
    "# 1) 워드 벡터를 구해보고,\n",
    "# 2) 단어간 의미적 유사도를 확인한다.\n",
    "#\n",
    "# 관련 논문 : [1] Tomas Mikolov, et. al., 2013, Efficient Estimation of Word \n",
    "#                 Representations in Vector Space\n",
    "#            [2] Tomas Mikolov, et. al., 2013, distributed representations of words \n",
    "#                and phrases and their compositionality          \n",
    "# ----------------------------------------------------------------------------------\n",
    "import numpy as np\n",
    "from tensorflow.keras.preprocessing.text import Tokenizer\n",
    "from tensorflow.keras.layers import Input, Dense, Embedding\n",
    "from tensorflow.keras.models import Model, load_model\n",
    "from tensorflow.keras import optimizers\n",
    "from sklearn.metrics.pairwise import cosine_similarity\n",
    "import pickle\n",
    "import nltk"
   ]
  },
  {
   "cell_type": "code",
   "execution_count": 2,
   "metadata": {
    "id": "SLCSg02HpRO-"
   },
   "outputs": [],
   "source": [
    "# 전처리가 완료된 한글 코퍼스를 읽어온다.\n",
    "with open('../data/konovel_preprocessed.pickle', 'rb') as f:\n",
    "    sent_list = pickle.load(f)"
   ]
  },
  {
   "cell_type": "code",
   "execution_count": 3,
   "metadata": {
    "id": "TDzOCqK1pwz_"
   },
   "outputs": [],
   "source": [
    "max_word = 10000\n",
    "tokenizer = Tokenizer(num_words = max_word, oov_token = '<OOV>') # OOV index = 1\n",
    "tokenizer.fit_on_texts(sent_list)\n",
    "sent_idx = tokenizer.texts_to_sequences(sent_list)\n",
    "word2idx = {k:v for (k, v) in list(tokenizer.word_index.items())[:max_word]}\n",
    "idx2word = {v:k for (k, v) in word2idx.items()}"
   ]
  },
  {
   "cell_type": "code",
   "execution_count": 4,
   "metadata": {
    "colab": {
     "base_uri": "https://localhost:8080/"
    },
    "executionInfo": {
     "elapsed": 974,
     "status": "ok",
     "timestamp": 1626509111860,
     "user": {
      "displayName": "조성현",
      "photoUrl": "",
      "userId": "00956016439237072792"
     },
     "user_tz": -540
    },
    "id": "8MDj-V5HqxeZ",
    "outputId": "bcac0457-8e15-4382-8f9e-40567ad7b652"
   },
   "outputs": [
    {
     "data": {
      "text/plain": [
       "((1059088, 1), (1059088, 1))"
      ]
     },
     "execution_count": 4,
     "metadata": {},
     "output_type": "execute_result"
    }
   ],
   "source": [
    "# 5-gram으로 학습 데이터를 생성한다.\n",
    "x_data = []     # 입력 데이터\n",
    "y_data = []     # 출력 데이터\n",
    "for sentence in sent_idx:\n",
    "    # 5-gram으로 주변 단어들을 묶는다. 가운데 단어와 다른 단어들의 쌍을 만든다.\n",
    "    contexts = nltk.ngrams(sentence, 5)\n",
    "    pairs = [[(c[2], c[0]), (c[2], c[1]), (c[2], c[3]), (c[2], c[4])] for c in contexts]\n",
    "    for pair in pairs:\n",
    "        for p in pair:\n",
    "            if word2idx['<OOV>'] not in p:  # oov가 포함된 쌍은 제외한다.\n",
    "                x_data.append(p[0])\n",
    "                y_data.append(p[1])\n",
    "\n",
    "x = np.array(x_data).reshape(-1, 1)\n",
    "y = np.array(y_data).reshape(-1, 1)\n",
    "x.shape, y.shape"
   ]
  },
  {
   "cell_type": "code",
   "execution_count": 18,
   "metadata": {
    "id": "HwHf2CbMrEvv"
   },
   "outputs": [],
   "source": [
    "# Subsampling of frequent words.\n",
    "# [1]의 후속 논문인 [2]에 소개된 subsampling 기법을 적용한다.\n",
    "# x : target, y : context\n",
    "def sub_sampling(x, y):\n",
    "    # x, y를 합친다.\n",
    "    data = np.hstack([x, y])\n",
    "    \n",
    "    # data = (x, y) 쌍을 shuffling 한다.\n",
    "    np.random.shuffle(data)\n",
    "    \n",
    "    # data의 x 값을 기준으로 subsampling을 적용한다.\n",
    "    d = np.empty(shape = (0, 2), dtype=np.int32)\n",
    "    for x_set in set(data[:, 0]):\n",
    "        x_tmp = data[np.where(data[:, 0] == x_set)]\n",
    "\n",
    "        fw = 1e-8 + x_tmp.shape[0] / data.shape[0]\n",
    "        pw = np.sqrt(1e-5 / fw)              # 남겨야할 비율\n",
    "        cw = np.int(x_tmp.shape[0] * pw) + 1 # 남겨야할 개수 - subsampling 개수\n",
    "        d = np.vstack([d, x_tmp[:cw]])\n",
    "\n",
    "    # d[:, 1]은 0,1,2,... 순으로 되어 있어서 다시 한번 shuffle 한다.\n",
    "    np.random.shuffle(d)\n",
    "    return d[:, 0].reshape(-1, 1), d[:, 1].reshape(-1, 1)"
   ]
  },
  {
   "cell_type": "code",
   "execution_count": 26,
   "metadata": {
    "colab": {
     "base_uri": "https://localhost:8080/"
    },
    "executionInfo": {
     "elapsed": 1132,
     "status": "ok",
     "timestamp": 1626509112990,
     "user": {
      "displayName": "조성현",
      "photoUrl": "",
      "userId": "00956016439237072792"
     },
     "user_tz": -540
    },
    "id": "_y3ofMOUvI67",
    "outputId": "7ca6744b-598e-4bae-b78e-83ecce0d7910",
    "scrolled": true
   },
   "outputs": [
    {
     "name": "stdout",
     "output_type": "stream",
     "text": [
      "Model: \"model_2\"\n",
      "_________________________________________________________________\n",
      "Layer (type)                 Output Shape              Param #   \n",
      "=================================================================\n",
      "input_3 (InputLayer)         [(None, 1)]               0         \n",
      "_________________________________________________________________\n",
      "emb_vec (Embedding)          (None, 1, 64)             640064    \n",
      "_________________________________________________________________\n",
      "dense_2 (Dense)              (None, 1, 10001)          650065    \n",
      "=================================================================\n",
      "Total params: 1,290,129\n",
      "Trainable params: 1,290,129\n",
      "Non-trainable params: 0\n",
      "_________________________________________________________________\n"
     ]
    }
   ],
   "source": [
    "# skipgram 모델을 생성한다.\n",
    "VOCAB_SIZE = len(word2idx) + 1\n",
    "EMB_SIZE = 64\n",
    "LOAD_MODEL = True\n",
    "\n",
    "if LOAD_MODEL:\n",
    "    # 학습된 모델을 읽어온다.\n",
    "    model = load_model(\"../data/skipgram_model.h5\")    \n",
    "else:\n",
    "    x_input = Input(batch_shape = (None, 1))\n",
    "    wv_layer = Embedding(VOCAB_SIZE, EMB_SIZE, name='emb_vec')(x_input)\n",
    "    y_output = Dense(VOCAB_SIZE, activation='softmax')(wv_layer)\n",
    "    \n",
    "    model = Model(x_input, y_output)     # 학습용 모델\n",
    "    model.compile(loss='sparse_categorical_crossentropy', optimizer=optimizers.Adam(learning_rate=0.001))\n",
    "model.summary()"
   ]
  },
  {
   "cell_type": "code",
   "execution_count": 30,
   "metadata": {
    "colab": {
     "base_uri": "https://localhost:8080/"
    },
    "executionInfo": {
     "elapsed": 150960,
     "status": "ok",
     "timestamp": 1626509264360,
     "user": {
      "displayName": "조성현",
      "photoUrl": "",
      "userId": "00956016439237072792"
     },
     "user_tz": -540
    },
    "id": "poINfd2ax_cY",
    "outputId": "4de5550c-4091-48c1-ef45-1acba36595cf"
   },
   "outputs": [
    {
     "name": "stdout",
     "output_type": "stream",
     "text": [
      "Epoch 1/10\n",
      "242/242 [==============================] - 2s 8ms/step - loss: 6.9856\n",
      "Epoch 2/10\n",
      "242/242 [==============================] - 2s 8ms/step - loss: 6.8711\n",
      "Epoch 3/10\n",
      "242/242 [==============================] - 2s 8ms/step - loss: 6.7716\n",
      "Epoch 4/10\n",
      "242/242 [==============================] - 2s 8ms/step - loss: 6.6785\n",
      "Epoch 5/10\n",
      "242/242 [==============================] - 2s 8ms/step - loss: 6.5890\n",
      "Epoch 6/10\n",
      "242/242 [==============================] - 2s 8ms/step - loss: 6.5021\n",
      "Epoch 7/10\n",
      "242/242 [==============================] - 2s 8ms/step - loss: 6.4177\n",
      "Epoch 8/10\n",
      "242/242 [==============================] - 2s 8ms/step - loss: 6.3356\n",
      "Epoch 9/10\n",
      "242/242 [==============================] - 2s 8ms/step - loss: 6.2560\n",
      "Epoch 10/10\n",
      "242/242 [==============================] - 2s 8ms/step - loss: 6.1788\n"
     ]
    }
   ],
   "source": [
    "# 학습.\n",
    "for i in range(1):\n",
    "    x_train, y_train = sub_sampling(x, y)\n",
    "    model.fit(x_train, y_train, batch_size=1024, epochs=10)\n",
    "    \n",
    "# 학습 결과를 저장해 둔다.\n",
    "model.save(\"../data/skipgram_model.h5\")"
   ]
  },
  {
   "cell_type": "code",
   "execution_count": 21,
   "metadata": {
    "id": "MT0RZ0jByPcu"
   },
   "outputs": [],
   "source": [
    "# 어휘 사전인 word2idx도 저장해 둔다.\n",
    "with open('../data/skipgram_word2idx.pkl', 'wb') as f:\n",
    "    pickle.dump([word2idx, idx2word], f, pickle.DEFAULT_PROTOCOL)"
   ]
  },
  {
   "cell_type": "code",
   "execution_count": 31,
   "metadata": {
    "colab": {
     "base_uri": "https://localhost:8080/"
    },
    "executionInfo": {
     "elapsed": 389,
     "status": "ok",
     "timestamp": 1626509264726,
     "user": {
      "displayName": "조성현",
      "photoUrl": "",
      "userId": "00956016439237072792"
     },
     "user_tz": -540
    },
    "id": "5_7-vIrOyZxe",
    "outputId": "a724b6d1-79fa-4755-98fc-b57e7e615ef5"
   },
   "outputs": [
    {
     "name": "stdout",
     "output_type": "stream",
     "text": [
      "['하다', '있다', '사람', '대한', '않다', '자기', '오다', '때문', '이다', '같다']\n"
     ]
    }
   ],
   "source": [
    "# 주어진 단어의 주변 단어 (context) 확인\n",
    "def get_contexts(word, top_n=10):\n",
    "    if word in word2idx:\n",
    "        x = np.array(word2idx[word]).reshape(-1,1)\n",
    "    else:\n",
    "        x = np.array(word2idx['<OOV>']).reshape(-1,1)\n",
    "\n",
    "    context_prob = model.predict(x)[0][0]\n",
    "    top_idx = np.argsort(context_prob)[::-1][:top_n]\n",
    "    return [idx2word[i] for i in top_idx]\n",
    "\n",
    "context = get_contexts('사랑')\n",
    "print(context)"
   ]
  },
  {
   "cell_type": "code",
   "execution_count": 32,
   "metadata": {
    "id": "PPhNPLkDz2Dp"
   },
   "outputs": [],
   "source": [
    "wv = model.get_layer('emb_vec').get_weights()[0]\n",
    "\n",
    "# 주어진 단어의 word2vec 확인\n",
    "def get_word2vec(word, wv):\n",
    "    if word in word2idx:\n",
    "        x = np.array(word2idx[word]).reshape(-1,1)\n",
    "    else:\n",
    "        x = np.array(word2idx['<OOV>']).reshape(-1,1)\n",
    "    return wv[x, :][0][0]"
   ]
  },
  {
   "cell_type": "code",
   "execution_count": 33,
   "metadata": {
    "colab": {
     "base_uri": "https://localhost:8080/"
    },
    "executionInfo": {
     "elapsed": 13,
     "status": "ok",
     "timestamp": 1626509264728,
     "user": {
      "displayName": "조성현",
      "photoUrl": "",
      "userId": "00956016439237072792"
     },
     "user_tz": -540
    },
    "id": "FIwbQqTl0Saf",
    "outputId": "57cbd61b-a9f5-4477-8660-76fe40074d89"
   },
   "outputs": [
    {
     "name": "stdout",
     "output_type": "stream",
     "text": [
      "[ 0.2763 -0.1151 -0.1444 -0.0006  0.3651 -0.2023 -0.3084 -0.0906 -0.0853\n",
      " -0.1673 -0.1014  0.071   0.3223  0.2059  0.3258 -0.3458 -0.1018  0.101\n",
      "  0.1587  0.1737  0.066  -0.2198 -0.1746  0.2121  0.1331  0.1715 -0.2857\n",
      " -0.269   0.1664 -0.4046  0.149   0.3233 -0.2772  0.1444 -0.1306  0.1072\n",
      "  0.1533 -0.0094  0.3466 -0.1912 -0.1039  0.0242 -0.0786  0.2477 -0.0638\n",
      " -0.1415 -0.286   0.351   0.1351 -0.0524  0.2242  0.0659  0.3358 -0.0724\n",
      "  0.2951 -0.0931  0.0397 -0.1078 -0.2694 -0.4568  0.1622 -0.4385 -0.2185\n",
      "  0.349 ]\n"
     ]
    }
   ],
   "source": [
    "word2vec = get_word2vec('아버지', wv)\n",
    "print(np.round(word2vec, 4))"
   ]
  },
  {
   "cell_type": "code",
   "execution_count": 34,
   "metadata": {
    "colab": {
     "base_uri": "https://localhost:8080/"
    },
    "executionInfo": {
     "elapsed": 12,
     "status": "ok",
     "timestamp": 1626509264729,
     "user": {
      "displayName": "조성현",
      "photoUrl": "",
      "userId": "00956016439237072792"
     },
     "user_tz": -540
    },
    "id": "r_-VcSXt0Qha",
    "outputId": "08ccf52f-b14c-4d02-b014-839b44d289cc"
   },
   "outputs": [
    {
     "name": "stdout",
     "output_type": "stream",
     "text": [
      "\n",
      "의사 - 환자 : 0.3139\n",
      "의사 - 김치 : 0.1478\n"
     ]
    }
   ],
   "source": [
    "# 단어간 유사도 측정\n",
    "doctor = get_word2vec('의사', wv)\n",
    "patient = get_word2vec('환자', wv)\n",
    "sea = get_word2vec('김치', wv)\n",
    "\n",
    "print('\\n의사 - 환자 :', np.round(cosine_similarity([doctor, patient])[0, 1], 4))\n",
    "print('의사 - 김치 :', np.round(cosine_similarity([doctor, sea])[0, 1], 4))"
   ]
  },
  {
   "cell_type": "code",
   "execution_count": 35,
   "metadata": {
    "colab": {
     "base_uri": "https://localhost:8080/"
    },
    "executionInfo": {
     "elapsed": 10,
     "status": "ok",
     "timestamp": 1626509264729,
     "user": {
      "displayName": "조성현",
      "photoUrl": "",
      "userId": "00956016439237072792"
     },
     "user_tz": -540
    },
    "id": "Ah1zhD660jJV",
    "outputId": "97503963-c0f3-45e6-f200-8fc45d8e6fce"
   },
   "outputs": [
    {
     "name": "stdout",
     "output_type": "stream",
     "text": [
      "\n",
      "아빠 - 딸 : 0.1929\n",
      "엄마 - 딸 : 0.2969\n"
     ]
    }
   ],
   "source": [
    "father = get_word2vec('아빠', wv)\n",
    "mother = get_word2vec('엄마', wv)\n",
    "daughter = get_word2vec('딸', wv)\n",
    "\n",
    "print('\\n아빠 - 딸 :', np.round(cosine_similarity([father, daughter])[0, 1], 4))\n",
    "print('엄마 - 딸 :', np.round(cosine_similarity([mother, daughter])[0, 1], 4))"
   ]
  },
  {
   "cell_type": "code",
   "execution_count": null,
   "metadata": {
    "id": "G-RZE4lz01a8"
   },
   "outputs": [],
   "source": []
  }
 ],
 "metadata": {
  "accelerator": "GPU",
  "colab": {
   "authorship_tag": "ABX9TyP74XcMqT5iavFQcYpCyIrL",
   "collapsed_sections": [],
   "mount_file_id": "1A093yLuwQOCWlY1qHU2lJvWxfY73Taum",
   "name": "6-6.SkipGram_2.ipynb",
   "provenance": []
  },
  "kernelspec": {
   "display_name": "Python 3",
   "language": "python",
   "name": "python3"
  },
  "language_info": {
   "codemirror_mode": {
    "name": "ipython",
    "version": 3
   },
   "file_extension": ".py",
   "mimetype": "text/x-python",
   "name": "python",
   "nbconvert_exporter": "python",
   "pygments_lexer": "ipython3",
   "version": "3.7.10"
  }
 },
 "nbformat": 4,
 "nbformat_minor": 1
}