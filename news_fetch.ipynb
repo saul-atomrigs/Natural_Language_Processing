{
  "nbformat": 4,
  "nbformat_minor": 0,
  "metadata": {
    "colab": {
      "name": "_7.22_news_fetch.ipynb",
      "provenance": []
    },
    "kernelspec": {
      "name": "python3",
      "display_name": "Python 3"
    },
    "language_info": {
      "name": "python"
    }
  },
  "cells": [
    {
      "cell_type": "code",
      "metadata": {
        "colab": {
          "base_uri": "https://localhost:8080/"
        },
        "id": "fXeO7M5VtiaO",
        "outputId": "e1c8d984-80d6-4ee7-cde5-f272f5f7b33c"
      },
      "source": [
        "\n",
        "# TODO: Fetch_News Subject 분석하기\n",
        "import numpy as np\n",
        "import re\n",
        "import pickle\n",
        "from nltk.corpus import stopwords\n",
        "from sklearn.datasets import fetch_20newsgroups\n",
        "from sklearn.feature_extraction.text import TfidfVectorizer\n",
        "from nltk.stem import PorterStemmer\n",
        "import nltk\n",
        "\n",
        "nltk.download('punkt')\n",
        "nltk.download('stopwords')\n",
        "\n",
        "# %cd '/content/drive/MyDrive/Colab Notebooks'\n",
        "\n",
        "# news data를 읽어온다. subject 분석용.\n",
        "newsData = fetch_20newsgroups(shuffle=True, random_state=1, remove=('footers', 'quotes'))\n",
        "\n",
        "# 첫 번째 news를 조회해 본다.\n",
        "news = newsData['data']\n",
        "topic = newsData['target']\n",
        "topic_name = newsData['target_names']\n",
        "n=0\n",
        "print(len(news))\n",
        "print(news[n])\n",
        "print('topic = ', topic[n], topic_name[topic[n]])\n",
        "\n",
        "# Subject만 추출한다.\n",
        "subjects = []\n",
        "for text in news:\n",
        "    for sent in text.split('\\n'):\n",
        "        idx = sent.find('Subject:')  # find는 문자열중에 특정문자를 찾고 위치를 반환해준다, 없을경우 -1을 리턴\n",
        "        if idx >= 0:       # found\n",
        "            subjects.append(sent[(idx + 9):].replace('Re: ', ''))\n",
        "            break\n",
        "\n",
        "# subject를 전처리한다.\n",
        "stemmer = PorterStemmer()\n",
        "stop_words = stopwords.words('english')\n",
        "\n",
        "# 1. 영문자가 아닌 문자를 모두 제거한다.\n",
        "subject1 = [re.sub(\"[^a-zA-Z]\", \" \", s) for s in subjects]\n",
        "\n",
        "# 2. 불용어를 제거하고, 모든 단어를 소문자로 변환하고, 길이가 2 이하인 \n",
        "# 단어를 제거한다\n",
        "# 3. Porterstemmer를 적용한다.\n",
        "subject2 = []\n",
        "for sub in subject1:\n",
        "    tmp = []\n",
        "    for w in sub.split():\n",
        "        w = w.lower()\n",
        "        if len(w) > 2 and w not in stop_words:\n",
        "            tmp.append(stemmer.stem(w))\n",
        "    subject2.append(' '.join(tmp))\n",
        "\n",
        "# news data를 다시 읽어온다. news의 body 부분 처리.\n",
        "newsData = fetch_20newsgroups(shuffle=True, random_state=1, remove=('headers', 'footers', 'quotes'))\n",
        "news = newsData['data']\n",
        "\n",
        "# body 부분을 전처리한다.\n",
        "\n",
        "# 1. 영문자가 아닌 문자를 모두 제거한다.\n",
        "news1 = [re.sub(\"[^a-zA-Z]\", \" \", s) for s in subjects]\n",
        "\n",
        "# 2. 불용어를 제거하고, 모든 단어를 소문자로 변환하고, 길이가 3 이하인 \n",
        "# 단어를 제거한다\n",
        "# 3. Porterstemmer를 적용한다.\n",
        "news2 = []\n",
        "for doc in news1:\n",
        "    doc1 = []\n",
        "    for w in doc.split():\n",
        "        w = w.lower()\n",
        "        if len(w) > 3 and w not in stop_words:\n",
        "            doc1.append(stemmer.stem(w))\n",
        "    news2.append(' '.join(doc1))\n",
        "\n",
        "# 전처리가 완료된 데이터를 저장한다.\n",
        "with open('/content/drive/MyDrive/Colab Notebook/data/newsgroup20.pkl', 'wb') as f:\n",
        "    pickle.dump([subject2, news2, topic], f, pickle.DEFAULT_PROTOCOL)\n"
      ],
      "execution_count": 2,
      "outputs": [
        {
          "output_type": "stream",
          "text": [
            "[nltk_data] Downloading package punkt to /root/nltk_data...\n",
            "[nltk_data]   Unzipping tokenizers/punkt.zip.\n"
          ],
          "name": "stdout"
        },
        {
          "output_type": "stream",
          "text": [
            "Downloading 20news dataset. This may take a few minutes.\n",
            "Downloading dataset from https://ndownloader.figshare.com/files/5975967 (14 MB)\n"
          ],
          "name": "stderr"
        },
        {
          "output_type": "stream",
          "text": [
            "[nltk_data] Downloading package stopwords to /root/nltk_data...\n",
            "[nltk_data]   Unzipping corpora/stopwords.zip.\n",
            "11314\n",
            "From: ab4z@Virginia.EDU (\"Andi Beyer\")\n",
            "Subject: Re: Israeli Terrorism\n",
            "Organization: University of Virginia\n",
            "Lines: 15\n",
            "topic =  17 talk.politics.mideast\n"
          ],
          "name": "stdout"
        }
      ]
    },
    {
      "cell_type": "code",
      "metadata": {
        "id": "og6svtGbuNpz"
      },
      "source": [
        ""
      ],
      "execution_count": null,
      "outputs": []
    },
    {
      "cell_type": "code",
      "metadata": {
        "colab": {
          "base_uri": "https://localhost:8080/",
          "height": 1000
        },
        "id": "QJ3Hp64TuHWh",
        "outputId": "0b49645f-cf3c-43e9-cbc3-7b11dbb6e6bd"
      },
      "source": [
        "\n",
        "# TODO: news_fetch LSTM\n",
        "# LSTM으로 subject를 clasification한다.\n",
        "import numpy as np\n",
        "import pickle\n",
        "from tensorflow.keras.preprocessing.text import Tokenizer\n",
        "from tensorflow.keras.layers import Input, Embedding, Dense, LSTM, Dropout\n",
        "from tensorflow.keras.preprocessing.sequence import pad_sequences\n",
        "from tensorflow.keras.models import Model\n",
        "from tensorflow.keras import optimizers\n",
        "from sklearn.model_selection import train_test_split\n",
        "import matplotlib.pyplot as plt\n",
        "import seaborn as sns\n",
        "\n",
        "# %cd '/content/drive/MyDrive/Colab Notebooks'\n",
        "\n",
        "# 전처리가 완료된 한글 코퍼스를 읽어온다.\n",
        "with open('/content/drive/MyDrive/Colab Notebook/data/newsgroup20.pkl', 'rb') as f:\n",
        "    subject, text, topic = pickle.load(f)\n",
        "\n",
        "n_topic = len(set(topic))\n",
        "\n",
        "max_word = 5000\n",
        "tokenizer = Tokenizer(num_words = max_word, oov_token = '<OOV>')\n",
        "tokenizer.fit_on_texts(subject)\n",
        "sent_idx = tokenizer.texts_to_sequences(subject)\n",
        "word2idx = {k:v for (k, v) in list(tokenizer.word_index.items())[:max_word]}\n",
        "word2idx['<PAD>'] = 0\n",
        "idx2word = {v:k for (k, v) in word2idx.items()}\n",
        "\n",
        "# subject을 길이 분포를 확인한다.\n",
        "n_len = [len(sub) for sub in sent_idx]\n",
        "sns.displot(n_len)\n",
        "plt.show()\n",
        "\n",
        "# 문장의 길이를 6으로 맞춘다.\n",
        "x_data = pad_sequences(sent_idx, maxlen=6, padding='post', truncating='post')\n",
        "y_data = topic\n",
        "\n",
        "# 학습 데이터와 시험데이터로 분리한다.\n",
        "x_train, x_test, y_train, y_test = train_test_split(x_data, y_data, test_size=0.2)\n",
        "y_train = np.array(y_train).reshape(-1, 1)\n",
        "y_test = np.array(y_test).reshape(-1, 1)\n",
        "\n",
        "x_train.shape, y_train.shape, x_test.shape, y_test.shape\n",
        "\n",
        "# LSTM 모델을 생성한다.\n",
        "EMB_SIZE = 32\n",
        "VOCAB_SIZE = len(word2idx) + 1\n",
        "x_input = Input(batch_shape = (None, x_train.shape[1]))\n",
        "x_embed = Embedding(input_dim=VOCAB_SIZE, output_dim=EMB_SIZE)(x_input)\n",
        "x_embed = Dropout(0.5)(x_embed)\n",
        "x_lstm = LSTM(64, dropout=0.5)(x_embed)\n",
        "y_output = Dense(n_topic, activation = 'softmax')(x_lstm)\n",
        "\n",
        "model = Model(x_input, y_output)     # 학습, 예측용 모델\n",
        "model.compile(loss='sparse_categorical_crossentropy', optimizer=optimizers.Adam(learning_rate=0.01))\n",
        "model.summary()\n",
        "\n",
        "# 모델을 학습한다.\n",
        "hist = model.fit(x_train, y_train, validation_data = (x_test, y_test), batch_size = 512, epochs = 30)\n",
        "\n"
      ],
      "execution_count": 3,
      "outputs": [
        {
          "output_type": "display_data",
          "data": {
            "image/png": "[encoded data removed]",
            "text/plain": [
              "<Figure size 360x360 with 1 Axes>"
            ]
          },
          "metadata": {
            "tags": [],
            "needs_background": "light"
          }
        },
        {
          "output_type": "stream",
          "text": [
            "Model: \"model\"\n",
            "_________________________________________________________________\n",
            "Layer (type)                 Output Shape              Param #   \n",
            "=================================================================\n",
            "input_1 (InputLayer)         [(None, 6)]               0         \n",
            "_________________________________________________________________\n",
            "embedding (Embedding)        (None, 6, 32)             160064    \n",
            "_________________________________________________________________\n",
            "dropout (Dropout)            (None, 6, 32)             0         \n",
            "_________________________________________________________________\n",
            "lstm (LSTM)                  (None, 64)                24832     \n",
            "_________________________________________________________________\n",
            "dense (Dense)                (None, 20)                1300      \n",
            "=================================================================\n",
            "Total params: 186,196\n",
            "Trainable params: 186,196\n",
            "Non-trainable params: 0\n",
            "_________________________________________________________________\n",
            "Epoch 1/30\n",
            "18/18 [==============================] - 4s 83ms/step - loss: 2.8570 - val_loss: 2.2311\n",
            "Epoch 2/30\n",
            "18/18 [==============================] - 1s 52ms/step - loss: 1.8721 - val_loss: 1.2965\n",
            "Epoch 3/30\n",
            "18/18 [==============================] - 1s 46ms/step - loss: 1.2940 - val_loss: 0.9717\n",
            "Epoch 4/30\n",
            "18/18 [==============================] - 1s 51ms/step - loss: 1.0238 - val_loss: 0.8541\n",
            "Epoch 5/30\n",
            "18/18 [==============================] - 1s 48ms/step - loss: 0.8859 - val_loss: 0.7946\n",
            "Epoch 6/30\n",
            "18/18 [==============================] - 1s 54ms/step - loss: 0.7774 - val_loss: 0.7439\n",
            "Epoch 7/30\n",
            "18/18 [==============================] - 1s 48ms/step - loss: 0.7139 - val_loss: 0.7125\n",
            "Epoch 8/30\n",
            "18/18 [==============================] - 1s 49ms/step - loss: 0.6745 - val_loss: 0.7008\n",
            "Epoch 9/30\n",
            "18/18 [==============================] - 1s 46ms/step - loss: 0.6023 - val_loss: 0.7074\n",
            "Epoch 10/30\n",
            "18/18 [==============================] - 1s 49ms/step - loss: 0.5894 - val_loss: 0.6812\n",
            "Epoch 11/30\n",
            "18/18 [==============================] - 1s 46ms/step - loss: 0.5564 - val_loss: 0.6878\n",
            "Epoch 12/30\n",
            "18/18 [==============================] - 1s 43ms/step - loss: 0.5417 - val_loss: 0.7011\n",
            "Epoch 13/30\n",
            "18/18 [==============================] - 1s 49ms/step - loss: 0.5365 - val_loss: 0.6914\n",
            "Epoch 14/30\n",
            "18/18 [==============================] - 1s 50ms/step - loss: 0.5052 - val_loss: 0.6931\n",
            "Epoch 15/30\n",
            "18/18 [==============================] - 1s 50ms/step - loss: 0.4830 - val_loss: 0.6973\n",
            "Epoch 16/30\n",
            "18/18 [==============================] - 1s 48ms/step - loss: 0.4554 - val_loss: 0.7138\n",
            "Epoch 17/30\n",
            "18/18 [==============================] - 1s 48ms/step - loss: 0.4561 - val_loss: 0.6945\n",
            "Epoch 18/30\n",
            "18/18 [==============================] - 1s 50ms/step - loss: 0.4412 - val_loss: 0.7133\n",
            "Epoch 19/30\n",
            "18/18 [==============================] - 1s 49ms/step - loss: 0.4301 - val_loss: 0.7174\n",
            "Epoch 20/30\n",
            "18/18 [==============================] - 1s 49ms/step - loss: 0.4337 - val_loss: 0.6909\n",
            "Epoch 21/30\n",
            "18/18 [==============================] - 1s 51ms/step - loss: 0.4150 - val_loss: 0.7219\n",
            "Epoch 22/30\n",
            "18/18 [==============================] - 1s 47ms/step - loss: 0.4175 - val_loss: 0.7035\n",
            "Epoch 23/30\n",
            "18/18 [==============================] - 1s 47ms/step - loss: 0.4021 - val_loss: 0.7107\n",
            "Epoch 24/30\n",
            "18/18 [==============================] - 1s 47ms/step - loss: 0.3935 - val_loss: 0.7128\n",
            "Epoch 25/30\n",
            "18/18 [==============================] - 1s 52ms/step - loss: 0.3932 - val_loss: 0.7272\n",
            "Epoch 26/30\n",
            "18/18 [==============================] - 1s 50ms/step - loss: 0.3823 - val_loss: 0.7104\n",
            "Epoch 27/30\n",
            "18/18 [==============================] - 1s 52ms/step - loss: 0.3678 - val_loss: 0.7294\n",
            "Epoch 28/30\n",
            "18/18 [==============================] - 1s 49ms/step - loss: 0.3582 - val_loss: 0.7379\n",
            "Epoch 29/30\n",
            "18/18 [==============================] - 1s 49ms/step - loss: 0.3622 - val_loss: 0.7104\n",
            "Epoch 30/30\n",
            "18/18 [==============================] - 1s 46ms/step - loss: 0.3628 - val_loss: 0.7330\n"
          ],
          "name": "stdout"
        }
      ]
    },
    {
      "cell_type": "code",
      "metadata": {
        "colab": {
          "base_uri": "https://localhost:8080/",
          "height": 295
        },
        "id": "B3tSQRl4uPWV",
        "outputId": "3bdb395e-d467-4d73-c931-472adb4d367f"
      },
      "source": [
        "\n",
        "# Loss history를 그린다\n",
        "plt.plot(hist.history['loss'], label='Train loss')\n",
        "plt.plot(hist.history['val_loss'], label = 'Test loss')\n",
        "plt.legend()\n",
        "plt.title(\"Loss history\")\n",
        "plt.xlabel(\"epoch\")\n",
        "plt.ylabel(\"loss\")\n",
        "plt.show()\n"
      ],
      "execution_count": 4,
      "outputs": [
        {
          "output_type": "display_data",
          "data": {
            "image/png": "[encoded data removed]",
            "text/plain": [
              "<Figure size 432x288 with 1 Axes>"
            ]
          },
          "metadata": {
            "tags": [],
            "needs_background": "light"
          }
        }
      ]
    },
    {
      "cell_type": "code",
      "metadata": {
        "colab": {
          "base_uri": "https://localhost:8080/"
        },
        "id": "BfmHJS7NuYJ7",
        "outputId": "a66d6ae5-18f1-45a7-b9c2-e3b3124c39e3"
      },
      "source": [
        "\n",
        "# 시험 데이터로 학습 성능을 평가한다\n",
        "pred = model.predict(x_test)\n",
        "y_pred = np.argmax(pred, axis=1).reshape(-1, 1)\n",
        "accuracy = (y_pred == y_test).mean()\n",
        "print(\"\\nAccuracy = %.2f %s\" % (accuracy * 100, '%'))\n"
      ],
      "execution_count": 5,
      "outputs": [
        {
          "output_type": "stream",
          "text": [
            "\n",
            "Accuracy = 84.62 %\n"
          ],
          "name": "stdout"
        }
      ]
    },
    {
      "cell_type": "code",
      "metadata": {
        "colab": {
          "base_uri": "https://localhost:8080/"
        },
        "id": "qGvCCJeMudOI",
        "outputId": "b503539a-6913-410a-8eaa-75fc26c5cd74"
      },
      "source": [
        "\n",
        "# 잘못 분류된 subject들을 살펴본다. 어떤 특징을 발견할 수 있을까?\n",
        "mis_idx = [list(x_test[m]) for m in np.where(y_pred != y_test)[0]]\n",
        "\n",
        "mis_sent = []\n",
        "for sent in mis_idx:\n",
        "    tmp = []\n",
        "    for i in sent:\n",
        "        if i > 0:      # pad가 아니면\n",
        "            tmp.append(idx2word[i])\n",
        "    mis_sent.append(tmp)\n",
        "mis_sent[:10]\n"
      ],
      "execution_count": 6,
      "outputs": [
        {
          "output_type": "execute_result",
          "data": {
            "text/plain": [
              "[['south', '<OOV>', '<OOV>'],\n",
              " ['last'],\n",
              " ['chrysler', 'bailout'],\n",
              " ['newss'],\n",
              " ['much', 'infinit', 'patienc'],\n",
              " ['infin', 'doppelgang', 'vulcan'],\n",
              " ['tempest'],\n",
              " ['left', 'side', 'pain'],\n",
              " ['striato', 'nigral', 'degener'],\n",
              " ['clarif', 'easter']]"
            ]
          },
          "metadata": {
            "tags": []
          },
          "execution_count": 6
        }
      ]
    },
    {
      "cell_type": "code",
      "metadata": {
        "colab": {
          "base_uri": "https://localhost:8080/",
          "height": 422
        },
        "id": "xuVj9QRbufn5",
        "outputId": "c6acf82c-5b97-444c-ee54-a0416499e5ca"
      },
      "source": [
        "\n",
        "# 잘못 분류된 subject들을 살펴본다. 어떤 특징을 발견할 수 있을까?\n",
        "good_idx = [list(x_test[m]) for m in np.where(y_pred == y_test)[0]]\n",
        "\n",
        "good_sent = []\n",
        "for sent in good_idx:\n",
        "    tmp = []\n",
        "    for i in sent:\n",
        "        if i > 0:      # pad가 아니면\n",
        "            tmp.append(idx2word[i])\n",
        "    good_sent.append(tmp)\n",
        "print(good_sent[:10])\n",
        "print()\n",
        "\n",
        "sns.displot(y_pred)\n",
        "plt.show()"
      ],
      "execution_count": 9,
      "outputs": [
        {
          "output_type": "stream",
          "text": [
            "[['atheist', 'view', 'christian', 'accept', 'jeesu', 'heart'], ['monophysit', 'mike', 'walker'], ['jeep', 'grand', 'toyota', 'runner'], ['null', 'modem', 'cabl'], ['armenia', 'say', 'could', 'shoot', 'turkish', 'plane'], ['limit', 'govt', 'employ', 'concentr'], ['page', 'flip', 'vga', 'mode'], ['qualiti', 'control', 'medicin'], ['ssto', 'senatori', 'aid', 'breif', 'recollect'], ['manual', 'shift', 'bigot']]\n",
            "\n"
          ],
          "name": "stdout"
        },
        {
          "output_type": "display_data",
          "data": {
            "image/png": "[encoded data removed]",
            "text/plain": [
              "<Figure size 402.25x360 with 1 Axes>"
            ]
          },
          "metadata": {
            "tags": [],
            "needs_background": "light"
          }
        }
      ]
    },
    {
      "cell_type": "code",
      "metadata": {
        "id": "fat1Oo6IugYJ"
      },
      "source": [
        ""
      ],
      "execution_count": null,
      "outputs": []
    },
    {
      "cell_type": "code",
      "metadata": {
        "id": "6xAli_Q3JU6E"
      },
      "source": [
        "# Latent Semantic Analysis (LSA)\n",
        "import numpy as np\n",
        "import pickle\n",
        "from nltk.corpus import stopwords\n",
        "from sklearn.feature_extraction.text import TfidfVectorizer\n",
        "from sklearn.decomposition import TruncatedSVD"
      ],
      "execution_count": 10,
      "outputs": []
    },
    {
      "cell_type": "code",
      "metadata": {
        "id": "JkdKeGuRJcfp"
      },
      "source": [
        "# 전처리가 완료된 한글 코퍼스를 읽어온다.\n",
        "with open('/content/drive/MyDrive/Colab Notebook/data/newsgroup20.pkl', 'rb') as f:\n",
        "    subject, text, target = pickle.load(f)\n",
        "\n",
        "n_target = len(set(target))"
      ],
      "execution_count": 12,
      "outputs": []
    },
    {
      "cell_type": "code",
      "metadata": {
        "colab": {
          "base_uri": "https://localhost:8080/"
        },
        "id": "YPC7laERJj_B",
        "outputId": "12366ea7-5cc6-42d5-d27e-23abdf630e12"
      },
      "source": [
        "\n",
        "# TF-IDF matrix를 생성한다.\n",
        "tf_vector = TfidfVectorizer(max_features = 500)\n",
        "tfidf = tf_vector.fit_transform(text)\n",
        "print(tfidf.shape)\n",
        "\n",
        "vocab = tf_vector.get_feature_names()\n",
        "print(vocab[:20])"
      ],
      "execution_count": 13,
      "outputs": [
        {
          "output_type": "stream",
          "text": [
            "(11314, 500)\n",
            "['acceler', 'accept', 'access', 'address', 'advertis', 'advic', 'agnost', 'albican', 'algorithm', 'almost', 'altern', 'amend', 'american', 'ancient', 'anecdot', 'anim', 'announc', 'anoth', 'answer', 'anti']\n"
          ],
          "name": "stdout"
        }
      ]
    },
    {
      "cell_type": "code",
      "metadata": {
        "colab": {
          "base_uri": "https://localhost:8080/"
        },
        "id": "9yMgzBZGJ0yS",
        "outputId": "7f5e5131-130e-4d5c-90a2-3165ada0556d"
      },
      "source": [
        "\n",
        "# Latent Semantic Analysis (LSA)\n",
        "# ------------------------------\n",
        "svd = TruncatedSVD(n_components = n_target, n_iter=1000)\n",
        "svd.fit(tfidf)\n",
        "\n",
        "U = svd.fit_transform(tfidf) / svd.singular_values_\n",
        "VT = svd.components_\n",
        "S = np.diag(svd.singular_values_)\n",
        "U.shape, S.shape, VT.shape"
      ],
      "execution_count": 14,
      "outputs": [
        {
          "output_type": "execute_result",
          "data": {
            "text/plain": [
              "((11314, 20), (20, 20), (20, 500))"
            ]
          },
          "metadata": {
            "tags": []
          },
          "execution_count": 14
        }
      ]
    },
    {
      "cell_type": "code",
      "metadata": {
        "colab": {
          "base_uri": "https://localhost:8080/"
        },
        "id": "7ct_7zFWJ8yM",
        "outputId": "b0864918-2571-4ad0-91c7-76afb2e3ec87"
      },
      "source": [
        "# 문서 별 Topic 번호를 확인한다. (문서 10개만 확인)\n",
        "for i in range(10):\n",
        "    print('문서-{:d} : topic = {:02d}, target = {:02d}'.format(i, np.argmax(U[i:(i+1), :][0]), target[i]))\n"
      ],
      "execution_count": 15,
      "outputs": [
        {
          "output_type": "stream",
          "text": [
            "문서-0 : topic = 01, target = 17\n",
            "문서-1 : topic = 10, target = 00\n",
            "문서-2 : topic = 01, target = 17\n",
            "문서-3 : topic = 09, target = 11\n",
            "문서-4 : topic = 19, target = 10\n",
            "문서-5 : topic = 13, target = 15\n",
            "문서-6 : topic = 13, target = 04\n",
            "문서-7 : topic = 01, target = 17\n",
            "문서-8 : topic = 18, target = 13\n",
            "문서-9 : topic = 01, target = 12\n"
          ],
          "name": "stdout"
        }
      ]
    },
    {
      "cell_type": "code",
      "metadata": {
        "colab": {
          "base_uri": "https://localhost:8080/"
        },
        "id": "Oax01O1MLTkK",
        "outputId": "8cc0312e-fd5b-4bbf-cc6d-6baa47c34d9f"
      },
      "source": [
        "# VT 행렬에서 topic 별로 중요 단어를 표시한다\n",
        "for i in range(len(VT)):\n",
        "    idx = VT[i].argsort()[::-1][:10]\n",
        "    print('토픽-{:2d} : '.format(i+1), end='')\n",
        "    for n in idx:\n",
        "        print('{:s} '.format(vocab[n]), end='')\n",
        "    print()"
      ],
      "execution_count": 17,
      "outputs": [
        {
          "output_type": "stream",
          "text": [
            "토픽- 1 : sale question window game system movi softwar card book updat \n",
            "토픽- 2 : question window moral christian wire israel help isra ask frequent \n",
            "토픽- 3 : help need window problem info want pleas file graphic drive \n",
            "토픽- 4 : window manag problem mous news applic driver forc screen accept \n",
            "토픽- 5 : christian moral year arrog good atheist need code tap polit \n",
            "토픽- 6 : good code tap need clipper info problem chip polit neighbor \n",
            "토픽- 7 : need info problem want clipper advic chip cheap secur card \n",
            "토픽- 8 : problem scsi drive quadra armenian video centri color plu lciii \n",
            "토픽- 9 : want card opinion chip monitor control info clipper driver like \n",
            "토픽-10 : clipper chip announc white hous text encrypt secret algorithm escrow \n",
            "토픽-11 : atheist polit hell agnost moral death test object hypocrisi neighbor \n",
            "토픽-12 : space read pleas warn drive mani station news post member \n",
            "토픽-13 : drive hard scsi disk boot secur updat tape forsal cheap \n",
            "토픽-14 : card like american express video pleas drive control monitor graphic \n",
            "토픽-15 : pleas read warn post counterst member drive want graphic librari \n",
            "토픽-16 : scsi control hell news quadra hockey go proper sabbath black \n",
            "토픽-17 : scsi monitor quadra driver polit info space card look atheist \n",
            "토픽-18 : monitor info hell control news lciii video right appl color \n",
            "토픽-19 : sensit superstit control file burn dividian hell ranch need survivor \n",
            "토픽-20 : driver updat look time burn dividian ranch dumbest survivor concept \n"
          ],
          "name": "stdout"
        }
      ]
    },
    {
      "cell_type": "code",
      "metadata": {
        "id": "HGd2FU7lLWK7"
      },
      "source": [
        "# Latent Dirichlet Allocation (LDA)\n",
        "\n",
        "import numpy as np\n",
        "import pickle\n",
        "from nltk.corpus import stopwords\n",
        "from sklearn.feature_extraction.text import TfidfVectorizer\n",
        "from sklearn.decomposition import LatentDirichletAllocation as LDA"
      ],
      "execution_count": 18,
      "outputs": []
    },
    {
      "cell_type": "code",
      "metadata": {
        "colab": {
          "base_uri": "https://localhost:8080/"
        },
        "id": "9RS1DgJDLmtW",
        "outputId": "529a43fa-eebb-4355-f984-f525125c28a2"
      },
      "source": [
        "# TF-IDF matrix를 생성한다.\n",
        "tf_vector = TfidfVectorizer(max_features = 500)\n",
        "tfidf = tf_vector.fit_transform(text)\n",
        "print(tfidf.shape)\n",
        "\n",
        "vocab = tf_vector.get_feature_names()\n",
        "print(vocab[:20])"
      ],
      "execution_count": 20,
      "outputs": [
        {
          "output_type": "stream",
          "text": [
            "(11314, 500)\n",
            "['acceler', 'accept', 'access', 'address', 'advertis', 'advic', 'agnost', 'albican', 'algorithm', 'almost', 'altern', 'amend', 'american', 'ancient', 'anecdot', 'anim', 'announc', 'anoth', 'answer', 'anti']\n"
          ],
          "name": "stdout"
        }
      ]
    },
    {
      "cell_type": "code",
      "metadata": {
        "id": "DI14BVhDLtwy"
      },
      "source": [
        "model = LDA(n_components = n_target, \n",
        "            learning_method='online', \n",
        "            evaluate_every=5, \n",
        "            max_iter=1000, \n",
        "            verbose=1)"
      ],
      "execution_count": 21,
      "outputs": []
    },
    {
      "cell_type": "code",
      "metadata": {
        "colab": {
          "base_uri": "https://localhost:8080/"
        },
        "id": "KOmQCdmYL0Di",
        "outputId": "e716487e-9e90-4ae4-f626-859576d8fcfa"
      },
      "source": [
        "doc_topic = model.fit_transform(tfidf)\n"
      ],
      "execution_count": 22,
      "outputs": [
        {
          "output_type": "stream",
          "text": [
            "iteration: 1 of max_iter: 1000\n",
            "iteration: 2 of max_iter: 1000\n",
            "iteration: 3 of max_iter: 1000\n",
            "iteration: 4 of max_iter: 1000\n",
            "iteration: 5 of max_iter: 1000, perplexity: 728.2822\n",
            "iteration: 6 of max_iter: 1000\n",
            "iteration: 7 of max_iter: 1000\n",
            "iteration: 8 of max_iter: 1000\n",
            "iteration: 9 of max_iter: 1000\n",
            "iteration: 10 of max_iter: 1000, perplexity: 727.1560\n",
            "iteration: 11 of max_iter: 1000\n",
            "iteration: 12 of max_iter: 1000\n",
            "iteration: 13 of max_iter: 1000\n",
            "iteration: 14 of max_iter: 1000\n",
            "iteration: 15 of max_iter: 1000, perplexity: 726.8444\n",
            "iteration: 16 of max_iter: 1000\n",
            "iteration: 17 of max_iter: 1000\n",
            "iteration: 18 of max_iter: 1000\n",
            "iteration: 19 of max_iter: 1000\n",
            "iteration: 20 of max_iter: 1000, perplexity: 726.7045\n",
            "iteration: 21 of max_iter: 1000\n",
            "iteration: 22 of max_iter: 1000\n",
            "iteration: 23 of max_iter: 1000\n",
            "iteration: 24 of max_iter: 1000\n",
            "iteration: 25 of max_iter: 1000, perplexity: 726.6263\n"
          ],
          "name": "stdout"
        }
      ]
    },
    {
      "cell_type": "code",
      "metadata": {
        "colab": {
          "base_uri": "https://localhost:8080/"
        },
        "id": "wNcfEGGdL1cA",
        "outputId": "d3bc35ea-01d7-47a4-b052-df8d6b9c2a61"
      },
      "source": [
        "# topic_term 행렬에서 topic 별로 중요 단어를 표시한다\n",
        "topic_term = model.components_\n",
        "for i in range(len(topic_term)):\n",
        "    idx = np.flipud(topic_term[i].argsort())[:10]\n",
        "    print('토픽-{:2d} : '.format(i+1), end='')\n",
        "    for n in idx:\n",
        "        print('{:s} '.format(vocab[n]), end='')\n",
        "    print()"
      ],
      "execution_count": 23,
      "outputs": [
        {
          "output_type": "stream",
          "text": [
            "토픽- 1 : monitor game simm program centri manag upgrad ride real size \n",
            "토픽- 2 : read pleas player predict basebal jewish playoff warn price member \n",
            "토픽- 3 : card driver look like video american advic imag comput studi \n",
            "토픽- 4 : clinton use printer electron nation idea widget intern suppli score \n",
            "토픽- 5 : question scsi sensit superstit burn right dividian trade ranch messag \n",
            "토픽- 6 : isra team realli armenian food terror record radar detector press \n",
            "토픽- 7 : updat name best moon date screen love get easter commerci \n",
            "토픽- 8 : sale islam work color arrog find rushdi line number christian \n",
            "토픽- 9 : time news next genocid mormon could concept jew turkish automot \n",
            "토픽-10 : window control mous appl disk font vandal tape motif gateway \n",
            "토픽-11 : problem space chang mani sourc data station licens protect serial \n",
            "토픽-12 : long quadra race doubl sound answer biblic speed nuclear detect \n",
            "토픽-13 : hezbollah forsal waco request softwar batf final april cryptographi homosexu \n",
            "토픽-14 : drive hard secret insur point algorithm mail crypto back escrow \n",
            "토픽-15 : clipper chip graphic list announc part white hous text power \n",
            "토픽-16 : christian atheist moral polit opinion year bike thought plu free \n",
            "토픽-17 : file israel expans post modem order select health servic avail \n",
            "토픽-18 : help need info cheap fast secur reason child differ concentr \n",
            "토픽-19 : want good code tap system book first diamond give unix \n",
            "토픽-20 : hell hockey keyboard machin wiretap fund sabbath anim coverag devil \n"
          ],
          "name": "stdout"
        }
      ]
    },
    {
      "cell_type": "code",
      "metadata": {
        "id": "yJ6xwzCIMG1y"
      },
      "source": [
        "# Latent Dirichlet Allocation (LDA)\n",
        "# ---------------------------------\n",
        "import numpy as np\n",
        "import pickle\n",
        "from nltk.corpus import stopwords\n",
        "from gensim import corpora\n",
        "from gensim.models.ldamodel import LdaModel as LDA"
      ],
      "execution_count": 24,
      "outputs": []
    },
    {
      "cell_type": "code",
      "metadata": {
        "colab": {
          "base_uri": "https://localhost:8080/"
        },
        "id": "ss6P8QzRMSfk",
        "outputId": "fb827dc3-6799-4184-9b1d-693f7147903d"
      },
      "source": [
        "# doc2bow 생성\n",
        "text_tok = [t.split() for t in text]\n",
        "vocab = corpora.Dictionary(text_tok)\n",
        "dict(list(vocab.items())[:10])\n",
        "news_bow = [vocab.doc2bow(s) for s in text_tok]\n",
        "print(news_bow[0])"
      ],
      "execution_count": 25,
      "outputs": [
        {
          "output_type": "stream",
          "text": [
            "[(0, 1), (1, 1)]\n"
          ],
          "name": "stdout"
        }
      ]
    },
    {
      "cell_type": "code",
      "metadata": {
        "id": "Bq-ARFO8MUBj"
      },
      "source": [
        "# Latent Dirichlet Allocation (LDA)\n",
        "# ---------------------------------\n",
        "model = LDA(news_bow, num_topics = n_target, id2word=vocab)"
      ],
      "execution_count": 26,
      "outputs": []
    },
    {
      "cell_type": "code",
      "metadata": {
        "colab": {
          "base_uri": "https://localhost:8080/"
        },
        "id": "NeYJzfIOMV67",
        "outputId": "73fb63dd-5130-4862-df4f-d01607b4b24a"
      },
      "source": [
        "# 문서 별 Topic 번호를 확인한다. (문서 10개만 확인)\n",
        "doc_topic = model.get_document_topics(news_bow)\n",
        "for i in range(10):\n",
        "    dp = np.array(doc_topic[i])\n",
        "    most_likely_topic = int(dp[np.argmax(dp[:, 1]), 0])\n",
        "    print('문서-{:d} : topic = {:02d}, target = {:02d}'.format(i, most_likely_topic, target[i]))\n"
      ],
      "execution_count": 27,
      "outputs": [
        {
          "output_type": "stream",
          "text": [
            "문서-0 : topic = 17, target = 17\n",
            "문서-1 : topic = 18, target = 00\n",
            "문서-2 : topic = 17, target = 17\n",
            "문서-3 : topic = 10, target = 11\n",
            "문서-4 : topic = 14, target = 10\n",
            "문서-5 : topic = 15, target = 15\n",
            "문서-6 : topic = 19, target = 04\n",
            "문서-7 : topic = 14, target = 17\n",
            "문서-8 : topic = 19, target = 13\n",
            "문서-9 : topic = 10, target = 12\n"
          ],
          "name": "stdout"
        }
      ]
    },
    {
      "cell_type": "code",
      "metadata": {
        "colab": {
          "base_uri": "https://localhost:8080/"
        },
        "id": "__eQ6680MXns",
        "outputId": "3257813d-76e9-4b1e-87c5-8eae6f92f826"
      },
      "source": [
        "# topic_term 행렬에서 topic 별로 중요 단어를 표시한다\n",
        "topic_term = model.get_topic_terms(0, topn=10)\n",
        "for i in range(n_target):\n",
        "    topic_term = model.get_topic_terms(i, topn=10)\n",
        "    idx = [idx for idx, score in topic_term]\n",
        "    print('토픽-{:2d} : '.format(i+1), end='')\n",
        "    for n in idx:\n",
        "        print('{:s} '.format(vocab[n]), end='')\n",
        "    print()\n"
      ],
      "execution_count": 28,
      "outputs": [
        {
          "output_type": "stream",
          "text": [
            "토픽- 1 : graphic waco look studi batf murder today everyon almost percentag \n",
            "토픽- 2 : read pleas game final warn orbit know presid space messag \n",
            "토픽- 3 : player updat clinton jewish basebal opinion diamond program data get \n",
            "토픽- 4 : long part first give radar detector moon fast anim billion \n",
            "토픽- 5 : info good need book gateway scienc tradit riddanc homeopathi methodolog \n",
            "토픽- 6 : problem centri need imag color price advic test drive health \n",
            "토픽- 7 : time clipper realli best secur need sale automot concept dumbest \n",
            "토픽- 8 : help file need armenian window peopl keep licens kill marri \n",
            "토픽- 9 : softwar driver genocid memori heart accept worst insur ultra opinion \n",
            "토픽-10 : card american like express christian mani arrog video tape comput \n",
            "토픽-11 : clipper chip announc white hous text question encrypt answer use \n",
            "토픽-12 : mous post order pleas counterst space news avail press russian \n",
            "토픽-13 : plu work stat radio ride screen christian score trade minu \n",
            "토픽-14 : question hockey sale open serial letter record israel right stuff \n",
            "토픽-15 : secret mormon algorithm chang playoff set next clipper jew thought \n",
            "토픽-16 : sale moral code good atheist christian year tap polit request \n",
            "토픽-17 : window monitor hard cheap disk drive inimit rushdi appl accept \n",
            "토픽-18 : want isra system burn terror dividian info font ranch limit \n",
            "토픽-19 : could turkish say shoot forsal plane find armenia number simm \n",
            "토픽-20 : control hell sensit superstit hezbollah name modem home doubl mode \n"
          ],
          "name": "stdout"
        }
      ]
    },
    {
      "cell_type": "code",
      "metadata": {
        "id": "Ylm9qZSCMY1i"
      },
      "source": [
        ""
      ],
      "execution_count": null,
      "outputs": []
    }
  ]
}
