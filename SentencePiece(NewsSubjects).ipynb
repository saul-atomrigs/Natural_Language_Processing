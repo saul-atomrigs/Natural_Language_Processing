{
  "nbformat": 4,
  "nbformat_minor": 0,
  "metadata": {
    "colab": {
      "name": "_7.23_SentencePiece(NewsSubjects).ipynb",
      "provenance": []
    },
    "kernelspec": {
      "name": "python3",
      "display_name": "Python 3"
    },
    "language_info": {
      "name": "python"
    }
  },
  "cells": [
    {
      "cell_type": "code",
      "metadata": {
        "id": "bt4FAyvqNEYF"
      },
      "source": [
        "import seaborn as sns\n",
        "import matplotlib.pyplot as plt\n",
        "from sklearn.model_selection import train_test_split\n",
        "from tensorflow.keras import optimizers\n",
        "from tensorflow.keras.models import Model\n",
        "from tensorflow.keras.preprocessing.sequence import pad_sequences\n",
        "from tensorflow.keras.layers import Input, Embedding, Dense, LSTM, Dropout\n",
        "import sentencepiece as spm\n",
        "from sklearn.datasets import fetch_20newsgroups\n",
        "import numpy as np\n",
        "import pandas as pd\n",
        "import sentencepiece as spm  # pip install sentencepiece\n",
        "import re\n",
        "import pickle"
      ],
      "execution_count": 3,
      "outputs": []
    },
    {
      "cell_type": "code",
      "metadata": {
        "colab": {
          "base_uri": "https://localhost:8080/"
        },
        "id": "K8FDk0E7NfD2",
        "outputId": "333004bf-a6c7-4732-f97d-922432a2b5e6"
      },
      "source": [
        "%cd '/content/drive/MyDrive/Colab Notebook'"
      ],
      "execution_count": 6,
      "outputs": [
        {
          "output_type": "stream",
          "text": [
            "/content/drive/MyDrive/Colab Notebook\n"
          ],
          "name": "stdout"
        }
      ]
    },
    {
      "cell_type": "code",
      "metadata": {
        "colab": {
          "base_uri": "https://localhost:8080/"
        },
        "id": "62xTRdQSNnbB",
        "outputId": "3b2b7731-2ed1-4fff-dffd-f44381641a35"
      },
      "source": [
        "# news data를 읽어온다.\n",
        "newsData = fetch_20newsgroups(\n",
        "    shuffle=True, random_state=1, remove=('footers', 'quotes'))"
      ],
      "execution_count": 7,
      "outputs": [
        {
          "output_type": "stream",
          "text": [
            "Downloading 20news dataset. This may take a few minutes.\n",
            "Downloading dataset from https://ndownloader.figshare.com/files/5975967 (14 MB)\n"
          ],
          "name": "stderr"
        }
      ]
    },
    {
      "cell_type": "code",
      "metadata": {
        "id": "qkvEM8v7N296"
      },
      "source": [
        "# 첫 번째 news를 조회해 본다.\n",
        "news = newsData['data']\n",
        "topic = newsData['target']\n",
        "topic_name = newsData['target_names']\n",
        "n_topic = len(set(topic))\n"
      ],
      "execution_count": 8,
      "outputs": []
    },
    {
      "cell_type": "code",
      "metadata": {
        "id": "npJg04ApN8vG"
      },
      "source": [
        "# Subject만 추출한다.\n",
        "subjects = []\n",
        "for text in news:\n",
        "    for sent in text.split('\\n'):\n",
        "        idx = sent.find('Subject:')\n",
        "        if idx >= 0:       # found\n",
        "            subject = sent[(idx + 9):].replace('Re: ', '').lower()\n",
        "            subjects.append(re.sub(\"[^a-zA-Z]\", \" \", subject))\n",
        "            break"
      ],
      "execution_count": 9,
      "outputs": []
    },
    {
      "cell_type": "code",
      "metadata": {
        "id": "OvuQAfQWN_Oi"
      },
      "source": [
        "# Sentencepice용 사전을 만들기 위해 corpusQA를 저장해 둔다.\n",
        "data_file = \"data/news_subject.txt\"\n",
        "with open(data_file, 'w', encoding='utf-8') as f:\n",
        "    for sent in subjects:\n",
        "        f.write(sent + '\\n')"
      ],
      "execution_count": 10,
      "outputs": []
    },
    {
      "cell_type": "code",
      "metadata": {
        "id": "HIThQ2ZOOAto"
      },
      "source": [
        "\n",
        "# Google의 Sentencepiece를 이용해서 vocabulary를 생성한다.\n",
        "# -----------------------------------------------------\n",
        "templates = \"--input={0:} \\\n",
        "            --pad_id=0 --pad_piece=<PAD>\\\n",
        "            --unk_id=1 --unk_piece=<UNK>\\\n",
        "            --bos_id=2 --bos_piece=<START>\\\n",
        "            --eos_id=3 --eos_piece=<END>\\\n",
        "            --model_prefix={1:} \\\n",
        "            --vocab_size={2:} \\\n",
        "            --character_coverage=0.9995 \\\n",
        "            --model_type=unigram\"\n",
        "\n",
        "VOCAB_SIZE = 5460\n",
        "model_prefix = \"data/news_subject\"\n",
        "params = templates.format(data_file, model_prefix, VOCAB_SIZE)\n",
        "\n",
        "spm.SentencePieceTrainer.Train(params)\n",
        "sp = spm.SentencePieceProcessor()\n",
        "sp.Load(model_prefix + '.model')\n",
        "\n",
        "with open(model_prefix + '.vocab', encoding='utf-8') as f:\n",
        "    vocab = [doc.strip().split('\\t') for doc in f]\n",
        "\n",
        "word2idx = {k: v for v, [k, _] in enumerate(vocab)}"
      ],
      "execution_count": 11,
      "outputs": []
    },
    {
      "cell_type": "code",
      "metadata": {
        "id": "7fv4w6VMODTl"
      },
      "source": [
        "# string으로 조회\n",
        "sentence = subjects[1]\n",
        "enc = sp.encode_as_pieces(sentence)\n",
        "dec = sp.decode_pieces(enc)\n"
      ],
      "execution_count": 12,
      "outputs": []
    },
    {
      "cell_type": "code",
      "metadata": {
        "colab": {
          "base_uri": "https://localhost:8080/"
        },
        "id": "4Lej3OTlOEuh",
        "outputId": "c6c2e168-0e51-4eb4-fb98-08c5ae322b9a"
      },
      "source": [
        "print('\\n    문장:', sentence)\n",
        "print('Subwords:', enc)\n",
        "print('    복원:', dec)"
      ],
      "execution_count": 13,
      "outputs": [
        {
          "output_type": "stream",
          "text": [
            "\n",
            "    문장: amusing atheists and agnostics\n",
            "Subwords: ['▁am', 'using', '▁atheists', '▁and', '▁agnostic', 's']\n",
            "    복원: amusing atheists and agnostics\n"
          ],
          "name": "stdout"
        }
      ]
    },
    {
      "cell_type": "code",
      "metadata": {
        "id": "oxSpv9thOGK7"
      },
      "source": [
        "# word index로 변환한다.\n",
        "subject_idx = [sp.encode_as_ids(s) for s in subjects]\n"
      ],
      "execution_count": 14,
      "outputs": []
    },
    {
      "cell_type": "code",
      "metadata": {
        "colab": {
          "base_uri": "https://localhost:8080/",
          "height": 368
        },
        "id": "Ni1kNlVKOJV1",
        "outputId": "111f98a9-df32-47fb-ce43-b01ef0277989"
      },
      "source": [
        "# subject을 길이 분포를 확인한다.\n",
        "n_len = [len(sub) for sub in subject_idx]\n",
        "sns.displot(n_len)\n",
        "plt.show()"
      ],
      "execution_count": 15,
      "outputs": [
        {
          "output_type": "display_data",
          "data": {
            "image/png": "[encoded data removed]",
            "text/plain": [
              "<Figure size 360x360 with 1 Axes>"
            ]
          },
          "metadata": {
            "tags": [],
            "needs_background": "light"
          }
        }
      ]
    },
    {
      "cell_type": "code",
      "metadata": {
        "id": "P471ODBzOKqs"
      },
      "source": [
        "# 문장 길이를 맞추고, 학습 데이터를 생성한다.\n",
        "x_data = pad_sequences(subject_idx, maxlen=15,\n",
        "                       padding='post', truncating='post')\n",
        "y_data = topic"
      ],
      "execution_count": 16,
      "outputs": []
    },
    {
      "cell_type": "code",
      "metadata": {
        "id": "pv8OORMPOMRX"
      },
      "source": [
        "# 학습 데이터와 시험데이터로 분리한다.\n",
        "x_train, x_test, y_train, y_test = train_test_split(\n",
        "    x_data, y_data, test_size=0.2)\n",
        "y_train = np.array(y_train).reshape(-1, 1)\n",
        "y_test = np.array(y_test).reshape(-1, 1)\n"
      ],
      "execution_count": 17,
      "outputs": []
    },
    {
      "cell_type": "code",
      "metadata": {
        "colab": {
          "base_uri": "https://localhost:8080/"
        },
        "id": "I2I_cYcjONbN",
        "outputId": "1360aab3-a000-4bd4-f412-20da9adee795"
      },
      "source": [
        "x_train.shape, y_train.shape, x_test.shape, y_test.shape\n"
      ],
      "execution_count": 18,
      "outputs": [
        {
          "output_type": "execute_result",
          "data": {
            "text/plain": [
              "((9051, 15), (9051, 1), (2263, 15), (2263, 1))"
            ]
          },
          "metadata": {
            "tags": []
          },
          "execution_count": 18
        }
      ]
    },
    {
      "cell_type": "code",
      "metadata": {
        "colab": {
          "base_uri": "https://localhost:8080/"
        },
        "id": "-aO7ljw5OOkD",
        "outputId": "37ecb508-c487-4899-bd14-280a8f7f26b1"
      },
      "source": [
        "\n",
        "# LSTM 모델을 생성한다.\n",
        "EMB_SIZE = 32\n",
        "VOCAB_SIZE = len(word2idx) + 1\n",
        "x_input = Input(batch_shape=(None, x_train.shape[1]))\n",
        "x_embed = Embedding(input_dim=VOCAB_SIZE, output_dim=EMB_SIZE)(x_input)\n",
        "x_embed = Dropout(0.5)(x_embed)\n",
        "x_lstm = LSTM(64, dropout=0.5)(x_embed)\n",
        "y_output = Dense(n_topic, activation='softmax')(x_lstm)\n",
        "\n",
        "model = Model(x_input, y_output)     # 학습, 예측용 모델\n",
        "model.compile(loss='sparse_categorical_crossentropy',\n",
        "              optimizer=optimizers.Adam(learning_rate=0.005))\n",
        "model.summary()"
      ],
      "execution_count": 19,
      "outputs": [
        {
          "output_type": "stream",
          "text": [
            "Model: \"model\"\n",
            "_________________________________________________________________\n",
            "Layer (type)                 Output Shape              Param #   \n",
            "=================================================================\n",
            "input_1 (InputLayer)         [(None, 15)]              0         \n",
            "_________________________________________________________________\n",
            "embedding (Embedding)        (None, 15, 32)            174752    \n",
            "_________________________________________________________________\n",
            "dropout (Dropout)            (None, 15, 32)            0         \n",
            "_________________________________________________________________\n",
            "lstm (LSTM)                  (None, 64)                24832     \n",
            "_________________________________________________________________\n",
            "dense (Dense)                (None, 20)                1300      \n",
            "=================================================================\n",
            "Total params: 200,884\n",
            "Trainable params: 200,884\n",
            "Non-trainable params: 0\n",
            "_________________________________________________________________\n"
          ],
          "name": "stdout"
        }
      ]
    },
    {
      "cell_type": "code",
      "metadata": {
        "colab": {
          "base_uri": "https://localhost:8080/"
        },
        "id": "uqglqAyXOQNh",
        "outputId": "fbe4d6aa-d3fc-4b13-8a20-eca54d5cd41e"
      },
      "source": [
        "# 모델을 학습한다.\n",
        "hist = model.fit(x_train, y_train, validation_data=(\n",
        "    x_test, y_test), batch_size=512, epochs=50)\n"
      ],
      "execution_count": 20,
      "outputs": [
        {
          "output_type": "stream",
          "text": [
            "Epoch 1/50\n",
            "18/18 [==============================] - 4s 115ms/step - loss: 2.9473 - val_loss: 2.7646\n",
            "Epoch 2/50\n",
            "18/18 [==============================] - 1s 82ms/step - loss: 2.5967 - val_loss: 2.4026\n",
            "Epoch 3/50\n",
            "18/18 [==============================] - 1s 78ms/step - loss: 2.2259 - val_loss: 2.0040\n",
            "Epoch 4/50\n",
            "18/18 [==============================] - 1s 82ms/step - loss: 1.8875 - val_loss: 1.7132\n",
            "Epoch 5/50\n",
            "18/18 [==============================] - 1s 80ms/step - loss: 1.6606 - val_loss: 1.5414\n",
            "Epoch 6/50\n",
            "18/18 [==============================] - 1s 81ms/step - loss: 1.4965 - val_loss: 1.3906\n",
            "Epoch 7/50\n",
            "18/18 [==============================] - 1s 80ms/step - loss: 1.3526 - val_loss: 1.2530\n",
            "Epoch 8/50\n",
            "18/18 [==============================] - 1s 83ms/step - loss: 1.2366 - val_loss: 1.1447\n",
            "Epoch 9/50\n",
            "18/18 [==============================] - 1s 83ms/step - loss: 1.1230 - val_loss: 1.0877\n",
            "Epoch 10/50\n",
            "18/18 [==============================] - 2s 84ms/step - loss: 1.0514 - val_loss: 1.0328\n",
            "Epoch 11/50\n",
            "18/18 [==============================] - 1s 81ms/step - loss: 0.9852 - val_loss: 0.9880\n",
            "Epoch 12/50\n",
            "18/18 [==============================] - 1s 77ms/step - loss: 0.9269 - val_loss: 0.9501\n",
            "Epoch 13/50\n",
            "18/18 [==============================] - 1s 78ms/step - loss: 0.8763 - val_loss: 0.9313\n",
            "Epoch 14/50\n",
            "18/18 [==============================] - 1s 81ms/step - loss: 0.8159 - val_loss: 0.8849\n",
            "Epoch 15/50\n",
            "18/18 [==============================] - 2s 84ms/step - loss: 0.7717 - val_loss: 0.8651\n",
            "Epoch 16/50\n",
            "18/18 [==============================] - 1s 80ms/step - loss: 0.7600 - val_loss: 0.8645\n",
            "Epoch 17/50\n",
            "18/18 [==============================] - 1s 82ms/step - loss: 0.7134 - val_loss: 0.8664\n",
            "Epoch 18/50\n",
            "18/18 [==============================] - 1s 80ms/step - loss: 0.6846 - val_loss: 0.8354\n",
            "Epoch 19/50\n",
            "18/18 [==============================] - 1s 84ms/step - loss: 0.6372 - val_loss: 0.8308\n",
            "Epoch 20/50\n",
            "18/18 [==============================] - 2s 83ms/step - loss: 0.6303 - val_loss: 0.8261\n",
            "Epoch 21/50\n",
            "18/18 [==============================] - 1s 83ms/step - loss: 0.5918 - val_loss: 0.8098\n",
            "Epoch 22/50\n",
            "18/18 [==============================] - 1s 81ms/step - loss: 0.5862 - val_loss: 0.7931\n",
            "Epoch 23/50\n",
            "18/18 [==============================] - 1s 81ms/step - loss: 0.5651 - val_loss: 0.7990\n",
            "Epoch 24/50\n",
            "18/18 [==============================] - 1s 80ms/step - loss: 0.5380 - val_loss: 0.7876\n",
            "Epoch 25/50\n",
            "18/18 [==============================] - 1s 79ms/step - loss: 0.5396 - val_loss: 0.8037\n",
            "Epoch 26/50\n",
            "18/18 [==============================] - 1s 80ms/step - loss: 0.5237 - val_loss: 0.8124\n",
            "Epoch 27/50\n",
            "18/18 [==============================] - 1s 82ms/step - loss: 0.5056 - val_loss: 0.7977\n",
            "Epoch 28/50\n",
            "18/18 [==============================] - 1s 80ms/step - loss: 0.5133 - val_loss: 0.7869\n",
            "Epoch 29/50\n",
            "18/18 [==============================] - 1s 80ms/step - loss: 0.4764 - val_loss: 0.8036\n",
            "Epoch 30/50\n",
            "18/18 [==============================] - 1s 79ms/step - loss: 0.4809 - val_loss: 0.7963\n",
            "Epoch 31/50\n",
            "18/18 [==============================] - 1s 82ms/step - loss: 0.4592 - val_loss: 0.8061\n",
            "Epoch 32/50\n",
            "18/18 [==============================] - 2s 83ms/step - loss: 0.4669 - val_loss: 0.7610\n",
            "Epoch 33/50\n",
            "18/18 [==============================] - 1s 79ms/step - loss: 0.4473 - val_loss: 0.8154\n",
            "Epoch 34/50\n",
            "18/18 [==============================] - 1s 78ms/step - loss: 0.4307 - val_loss: 0.7850\n",
            "Epoch 35/50\n",
            "18/18 [==============================] - 1s 81ms/step - loss: 0.4333 - val_loss: 0.7884\n",
            "Epoch 36/50\n",
            "18/18 [==============================] - 2s 84ms/step - loss: 0.4122 - val_loss: 0.7764\n",
            "Epoch 37/50\n",
            "18/18 [==============================] - 1s 80ms/step - loss: 0.4134 - val_loss: 0.7943\n",
            "Epoch 38/50\n",
            "18/18 [==============================] - 1s 83ms/step - loss: 0.4221 - val_loss: 0.7816\n",
            "Epoch 39/50\n",
            "18/18 [==============================] - 1s 80ms/step - loss: 0.4083 - val_loss: 0.8024\n",
            "Epoch 40/50\n",
            "18/18 [==============================] - 1s 82ms/step - loss: 0.3868 - val_loss: 0.8408\n",
            "Epoch 41/50\n",
            "18/18 [==============================] - 1s 82ms/step - loss: 0.3914 - val_loss: 0.7867\n",
            "Epoch 42/50\n",
            "18/18 [==============================] - 2s 84ms/step - loss: 0.3889 - val_loss: 0.8083\n",
            "Epoch 43/50\n",
            "18/18 [==============================] - 1s 82ms/step - loss: 0.3677 - val_loss: 0.7846\n",
            "Epoch 44/50\n",
            "18/18 [==============================] - 1s 78ms/step - loss: 0.3864 - val_loss: 0.8072\n",
            "Epoch 45/50\n",
            "18/18 [==============================] - 1s 82ms/step - loss: 0.3711 - val_loss: 0.8034\n",
            "Epoch 46/50\n",
            "18/18 [==============================] - 1s 81ms/step - loss: 0.3671 - val_loss: 0.7693\n",
            "Epoch 47/50\n",
            "18/18 [==============================] - 1s 81ms/step - loss: 0.3679 - val_loss: 0.7982\n",
            "Epoch 48/50\n",
            "18/18 [==============================] - 1s 80ms/step - loss: 0.3344 - val_loss: 0.8084\n",
            "Epoch 49/50\n",
            "18/18 [==============================] - 1s 82ms/step - loss: 0.3543 - val_loss: 0.8110\n",
            "Epoch 50/50\n",
            "18/18 [==============================] - 1s 81ms/step - loss: 0.3411 - val_loss: 0.8053\n"
          ],
          "name": "stdout"
        }
      ]
    },
    {
      "cell_type": "code",
      "metadata": {
        "colab": {
          "base_uri": "https://localhost:8080/",
          "height": 294
        },
        "id": "U5zFnwVQOSDN",
        "outputId": "1889103a-7461-45ea-970f-922d40be6545"
      },
      "source": [
        "# Loss history를 그린다\n",
        "plt.plot(hist.history['loss'], label='Train loss')\n",
        "plt.plot(hist.history['val_loss'], label='Test loss')\n",
        "plt.legend()\n",
        "plt.title(\"Loss history\")\n",
        "plt.xlabel(\"epoch\")\n",
        "plt.ylabel(\"loss\")\n",
        "plt.show()"
      ],
      "execution_count": 21,
      "outputs": [
        {
          "output_type": "display_data",
          "data": {
            "image/png": "[encoded data removed]",
            "text/plain": [
              "<Figure size 432x288 with 1 Axes>"
            ]
          },
          "metadata": {
            "tags": [],
            "needs_background": "light"
          }
        }
      ]
    },
    {
      "cell_type": "code",
      "metadata": {
        "colab": {
          "base_uri": "https://localhost:8080/"
        },
        "id": "48RObrraOtuK",
        "outputId": "8923c144-6297-4d17-a2be-531f432b2dc3"
      },
      "source": [
        "# 시험 데이터로 학습 성능을 평가한다\n",
        "pred = model.predict(x_test)\n",
        "y_pred = np.argmax(pred, axis=1).reshape(-1, 1)\n",
        "accuracy = (y_pred == y_test).mean()\n",
        "print(\"\\nAccuracy = %.2f %s\" % (accuracy * 100, '%'))"
      ],
      "execution_count": 22,
      "outputs": [
        {
          "output_type": "stream",
          "text": [
            "\n",
            "Accuracy = 83.38 %\n"
          ],
          "name": "stdout"
        }
      ]
    },
    {
      "cell_type": "code",
      "metadata": {
        "id": "kndtd8UROu86"
      },
      "source": [
        ""
      ],
      "execution_count": null,
      "outputs": []
    }
  ]
}
